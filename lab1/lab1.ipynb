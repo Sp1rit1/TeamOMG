{
 "cells": [
  {
   "cell_type": "code",
   "execution_count": 7,
   "id": "dc361bc9-a846-4956-926d-d1d8e3150ee6",
   "metadata": {},
   "outputs": [],
   "source": [
    "from deeppavlov import build_model, configs\n",
    "from urllib import request\n",
    "from bs4 import BeautifulSoup"
   ]
  },
  {
   "cell_type": "markdown",
   "id": "1ec8dcd9-65c0-4506-8ecf-bbfd0adcd925",
   "metadata": {},
   "source": [
    "Импортируем все необходимые библиотеки"
   ]
  },
  {
   "cell_type": "code",
   "execution_count": 9,
   "id": "4fd6c38a-5e6a-4317-b998-0ec31cb98670",
   "metadata": {},
   "outputs": [],
   "source": [
    "\n",
    "def getHtmlDocument(url):\n",
    "    fp = request.urlopen(url)\n",
    "    mybytes = fp.read()\n",
    "    fp.close()\n",
    "    return mybytes.decode('utf8')"
   ]
  },
  {
   "cell_type": "markdown",
   "id": "3ed4d7c0-c966-47cf-ad48-3d3deb737f57",
   "metadata": {},
   "source": [
    " Получаем html-документ с сайта по url"
   ]
  },
  {
   "cell_type": "code",
   "execution_count": 12,
   "id": "282f2d65-465d-4d1a-90ca-495b57fc29b9",
   "metadata": {},
   "outputs": [],
   "source": [
    "from bs4 import BeautifulSoup\n",
    "def getTextFromHtml(HtmlDocument):\n",
    "    soup = BeautifulSoup(HtmlDocument,\n",
    "                                     features='html.parser')\n",
    "    content = soup.find('div', {'id': 'post-content-body'})\n",
    "    return content.text"
   ]
  },
  {
   "cell_type": "markdown",
   "id": "b59fcc85-212d-4370-9f3e-43bad418bec2",
   "metadata": {},
   "source": [
    "Получаем текст из html-документа"
   ]
  },
  {
   "cell_type": "code",
   "execution_count": 15,
   "id": "596355bf-388b-49b9-ab13-e08f34733b3a",
   "metadata": {},
   "outputs": [],
   "source": [
    "questions = (\n",
    "    'О чём статья?',\n",
    "    'Какая цель статьи?',\n",
    "    'Какая задача решалась?',\n",
    "    'Что использовалось в работе?',\n",
    "    'Какие выводы?',\n",
    "    'Что использовалось?',\n",
    "    'Какие алгоритмы использовалось?',\n",
    "    'Какой язык программирования использовали?',\n",
    "    'В чём отличия?',\n",
    "    'Что особенного проявилось?',\n",
    "    'Какова область применения?',\n",
    "    'Что получено?',\n",
    "    'Каков результат?',\n",
    "    'Что получено в заключении?',\n",
    ")"
   ]
  },
  {
   "cell_type": "code",
   "execution_count": 17,
   "id": "643ec64f-f007-4d21-8fe9-654d66b42af2",
   "metadata": {},
   "outputs": [
    {
     "name": "stderr",
     "output_type": "stream",
     "text": [
      "2025-02-21 19:45:13.843 INFO in 'deeppavlov.core.data.utils'['utils'] at line 97: Downloading from http://files.deeppavlov.ai/v1/squad/squad_ru_torch_bert.tar.gz to C:\\Users\\0001\\.deeppavlov\\squad_ru_torch_bert.tar.gz\n",
      "100%|██████████| 1.74G/1.74G [02:33<00:00, 11.3MB/s] \n",
      "2025-02-21 19:47:48.113 INFO in 'deeppavlov.core.data.utils'['utils'] at line 284: Extracting C:\\Users\\0001\\.deeppavlov\\squad_ru_torch_bert.tar.gz archive into C:\\Users\\0001\\.deeppavlov\\models\n",
      "C:\\Users\\0001\\anaconda3\\envs\\deeppavlov_venv\\lib\\site-packages\\tqdm\\auto.py:22: TqdmWarning: IProgress not found. Please update jupyter and ipywidgets. See https://ipywidgets.readthedocs.io/en/stable/user_install.html\n",
      "  from .autonotebook import tqdm as notebook_tqdm\n",
      "C:\\Users\\0001\\anaconda3\\envs\\deeppavlov_venv\\lib\\site-packages\\huggingface_hub\\file_download.py:797: FutureWarning: `resume_download` is deprecated and will be removed in version 1.0.0. Downloads always resume when possible. If you want to force a new download, use `force_download=True`.\n",
      "  warnings.warn(\n",
      "Some weights of the model checkpoint at DeepPavlov/rubert-base-cased were not used when initializing BertForQuestionAnswering: ['cls.seq_relationship.weight', 'cls.predictions.decoder.bias', 'cls.predictions.bias', 'cls.predictions.decoder.weight', 'cls.predictions.transform.LayerNorm.weight', 'cls.predictions.transform.dense.bias', 'cls.predictions.transform.dense.weight', 'cls.predictions.transform.LayerNorm.bias', 'cls.seq_relationship.bias']\n",
      "- This IS expected if you are initializing BertForQuestionAnswering from the checkpoint of a model trained on another task or with another architecture (e.g. initializing a BertForSequenceClassification model from a BertForPreTraining model).\n",
      "- This IS NOT expected if you are initializing BertForQuestionAnswering from the checkpoint of a model that you expect to be exactly identical (initializing a BertForSequenceClassification model from a BertForSequenceClassification model).\n",
      "Some weights of BertForQuestionAnswering were not initialized from the model checkpoint at DeepPavlov/rubert-base-cased and are newly initialized: ['qa_outputs.weight', 'qa_outputs.bias']\n",
      "You should probably TRAIN this model on a down-stream task to be able to use it for predictions and inference.\n",
      "2025-02-21 19:49:06.788 WARNING in 'deeppavlov.core.models.torch_model'['torch_model'] at line 96: Unable to place component TorchTransformersSquad on GPU, since no CUDA GPUs are available. Using CPU.\n"
     ]
    }
   ],
   "source": [
    "model = build_model('squad_ru_bert', download=True)"
   ]
  },
  {
   "cell_type": "code",
   "execution_count": null,
   "id": "6c0af218-5ccf-4332-a0fd-8b0325dc2dd9",
   "metadata": {},
   "outputs": [],
   "source": [
    "Загружаем модель"
   ]
  },
  {
   "cell_type": "code",
   "execution_count": 49,
   "id": "8f190ed0-1afa-4009-ab0f-3544700b45c0",
   "metadata": {},
   "outputs": [
    {
     "name": "stdout",
     "output_type": "stream",
     "text": [
      "Какая цель статьи?   ['можно реализовать систему классификации текста']\n",
      "Что использовалось в работе?   ['мультиязычную версию BERT-base']\n",
      "Какие выводы?   ['относится ли текст к положительному или отрицательному отзыву']\n",
      "Что использовалось?   ['Pymorphy']\n",
      "Какой язык программирования использовали?   ['RuBERT']\n",
      "В чём отличия?   ['PyMorphy2 полностью открыта и развивается сообществом']\n",
      "Что особенного проявилось?   ['Согласование слова с числом']\n",
      "Какова область применения?   ['Определение части речи и форм слова']\n",
      "Что получено?   ['предсказаний']\n",
      "Каков результат?   ['был отличным']\n",
      "Что получено в заключении?   ['предсказаний']\n"
     ]
    }
   ],
   "source": [
    "content = getTextFromHtml(getHtmlDocument('https://habr.com/ru/articles/808435/'))\n",
    "for q in questions:\n",
    "    answer = model([content], [q])\n",
    "    if len(answer[2]) > 0 and abs(answer[2][0] - 1) > 1e-6:\n",
    "        print(q, ' ', answer[0])"
   ]
  },
  {
   "cell_type": "code",
   "execution_count": null,
   "id": "fad515c3-a556-44cb-b306-be7c8cfd2727",
   "metadata": {},
   "outputs": [],
   "source": []
  }
 ],
 "metadata": {
  "kernelspec": {
   "display_name": "deeppavlov_venv",
   "language": "python",
   "name": "deeppavlov_venv"
  },
  "language_info": {
   "codemirror_mode": {
    "name": "ipython",
    "version": 3
   },
   "file_extension": ".py",
   "mimetype": "text/x-python",
   "name": "python",
   "nbconvert_exporter": "python",
   "pygments_lexer": "ipython3",
   "version": "3.10.16"
  }
 },
 "nbformat": 4,
 "nbformat_minor": 5
}
