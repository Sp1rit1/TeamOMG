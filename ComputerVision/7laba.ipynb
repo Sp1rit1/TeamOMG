{
  "cells": [
    {
      "cell_type": "code",
      "execution_count": 80,
      "metadata": {
        "id": "JZErsTcklpAI"
      },
      "outputs": [],
      "source": [
        "import numpy as np\n",
        "import matplotlib.pyplot as plt\n",
        "import time\n",
        "\n",
        "from tensorflow.keras.datasets import fashion_mnist\n",
        "import tensorflow.keras.backend as K\n",
        "import tensorflow as tf\n",
        "from tensorflow.keras.layers import Dense, Flatten, Reshape, Input, BatchNormalization, Dropout\n",
        "from tensorflow.keras.layers import Conv2D, Conv2DTranspose, LeakyReLU"
      ]
    },
    {
      "cell_type": "code",
      "execution_count": 81,
      "metadata": {
        "colab": {
          "base_uri": "https://localhost:8080/"
        },
        "id": "gwJg7d0DlzDf",
        "outputId": "01221404-96f2-4c02-d619-02bc3dcd2c19"
      },
      "outputs": [],
      "source": [
        "(x_train, y_train), (x_test, y_test) = fashion_mnist.load_data()"
      ]
    },
    {
      "cell_type": "code",
      "execution_count": 82,
      "metadata": {
        "id": "hhf67Jp9l2xZ"
      },
      "outputs": [],
      "source": [
        "x_train = x_train[y_train == 7]\n",
        "y_train = y_train[y_train == 7]\n"
      ]
    },
    {
      "cell_type": "code",
      "execution_count": 83,
      "metadata": {
        "id": "Eps8MmFzl6jg"
      },
      "outputs": [],
      "source": [
        "BUFFER_SIZE = x_train.shape[0]\n",
        "BATCH_SIZE = 100\n"
      ]
    },
    {
      "cell_type": "code",
      "execution_count": 84,
      "metadata": {
        "colab": {
          "base_uri": "https://localhost:8080/"
        },
        "id": "snNq2qccl_SM",
        "outputId": "9d952840-917c-4e22-bbc6-8a9080251e62"
      },
      "outputs": [
        {
          "name": "stdout",
          "output_type": "stream",
          "text": [
            "(6000, 28, 28) (6000,)\n"
          ]
        }
      ],
      "source": [
        "BUFFER_SIZE = BUFFER_SIZE // BATCH_SIZE * BATCH_SIZE\n",
        "x_train = x_train[:BUFFER_SIZE]\n",
        "y_train = y_train[:BUFFER_SIZE]\n",
        "print(x_train.shape, y_train.shape)"
      ]
    },
    {
      "cell_type": "code",
      "execution_count": 85,
      "metadata": {
        "id": "_6nGW_AbmCte"
      },
      "outputs": [],
      "source": [
        "x_train = x_train / 255\n",
        "x_test = x_test / 255"
      ]
    },
    {
      "cell_type": "code",
      "execution_count": 86,
      "metadata": {
        "id": "7OH_pCsomGBV"
      },
      "outputs": [],
      "source": [
        "x_train = np.reshape(x_train, (len(x_train), 28, 28, 1))\n",
        "x_test = np.reshape(x_test, (len(x_test), 28, 28, 1))"
      ]
    },
    {
      "cell_type": "code",
      "execution_count": 87,
      "metadata": {
        "id": "gbS6vycMmJUm"
      },
      "outputs": [],
      "source": [
        "train_dataset = tf.data.Dataset.from_tensor_slices(x_train).shuffle(BUFFER_SIZE).batch(BATCH_SIZE)"
      ]
    },
    {
      "cell_type": "code",
      "execution_count": 88,
      "metadata": {
        "id": "BiHvmUB3mQ4t"
      },
      "outputs": [],
      "source": [
        "hidden_dim = 2"
      ]
    },
    {
      "cell_type": "code",
      "execution_count": 89,
      "metadata": {
        "id": "IRCQ0uppmRqv"
      },
      "outputs": [],
      "source": [
        "def dropout_and_batch():\n",
        "  return Dropout(0.3)(BatchNormalization())"
      ]
    },
    {
      "cell_type": "code",
      "execution_count": 90,
      "metadata": {
        "id": "RUN0gPGvmUt_"
      },
      "outputs": [],
      "source": [
        "# генератор\n",
        "generator = tf.keras.Sequential([\n",
        "  Dense(7 * 7 * 256, activation='relu', input_shape=(hidden_dim,)),\n",
        "  BatchNormalization(),\n",
        "  Reshape((7, 7, 256)),\n",
        "  Conv2DTranspose(128, (5, 5), strides=(1, 1), padding='same', activation='relu'),\n",
        "  BatchNormalization(),\n",
        "  Conv2DTranspose(64, (5, 5), strides=(2, 2), padding='same', activation='relu'),\n",
        "  BatchNormalization(),\n",
        "  Conv2DTranspose(1, (5, 5), strides=(2, 2), padding='same', activation='sigmoid'),\n",
        "])\n"
      ]
    },
    {
      "cell_type": "code",
      "execution_count": 91,
      "metadata": {
        "id": "TyN_7ryKmZpd"
      },
      "outputs": [],
      "source": [
        "# дискриминатор\n",
        "discriminator = tf.keras.Sequential()\n",
        "discriminator.add(Conv2D(64, (5, 5), strides=(2, 2), padding='same', input_shape=[28, 28, 1]))\n",
        "discriminator.add(LeakyReLU())\n",
        "discriminator.add(Dropout(0.3))\n",
        "\n",
        "discriminator.add(Conv2D(128, (5, 5), strides=(2, 2), padding='same'))\n",
        "discriminator.add(LeakyReLU())\n",
        "discriminator.add(Dropout(0.3))\n",
        "\n",
        "discriminator.add(Flatten())\n",
        "discriminator.add(Dense(1))"
      ]
    },
    {
      "cell_type": "code",
      "execution_count": 92,
      "metadata": {
        "id": "jWSzVy9ymdDS"
      },
      "outputs": [],
      "source": [
        "# потери\n",
        "cross_entropy = tf.keras.losses.BinaryCrossentropy(from_logits=True)\n"
      ]
    },
    {
      "cell_type": "code",
      "execution_count": 93,
      "metadata": {
        "id": "djiwxWsumf35"
      },
      "outputs": [],
      "source": [
        "def generator_loss(fake_output):\n",
        "  loss = cross_entropy(tf.ones_like(fake_output), fake_output)\n",
        "  return loss\n"
      ]
    },
    {
      "cell_type": "code",
      "execution_count": 94,
      "metadata": {
        "id": "mCbN73f4mieo"
      },
      "outputs": [],
      "source": [
        "def discriminator_loss(real_output, fake_output):\n",
        "  real_loss = cross_entropy(tf.ones_like(real_output), real_output)\n",
        "  fake_loss = cross_entropy(tf.zeros_like(fake_output), fake_output)\n",
        "  total_loss = real_loss + fake_loss\n",
        "  return total_loss\n"
      ]
    },
    {
      "cell_type": "code",
      "execution_count": 95,
      "metadata": {
        "id": "IU82JVeNmldb"
      },
      "outputs": [],
      "source": [
        "generator_optimizer = tf.keras.optimizers.Adam(1e-4)\n",
        "discriminator_optimizer = tf.keras.optimizers.Adam(1e-4)"
      ]
    },
    {
      "cell_type": "code",
      "execution_count": 96,
      "metadata": {
        "id": "scdg8VfemoYH"
      },
      "outputs": [],
      "source": [
        "# обучение\n",
        "@tf.function\n",
        "def train_step(images):\n",
        "  noise = tf.random.normal([BATCH_SIZE, hidden_dim])\n",
        "\n",
        "  with tf.GradientTape() as gen_tape, tf.GradientTape() as disc_tape:\n",
        "    generated_images = generator(noise, training=True)\n",
        "\n",
        "    real_output = discriminator(images, training=True)\n",
        "    fake_output = discriminator(generated_images, training=True)\n",
        "\n",
        "    gen_loss = generator_loss(fake_output)\n",
        "    disc_loss = discriminator_loss(real_output, fake_output)\n",
        "\n",
        "  gradients_of_generator = gen_tape.gradient(gen_loss, generator.trainable_variables)\n",
        "  gradients_of_discriminator = disc_tape.gradient(disc_loss, discriminator.trainable_variables)\n",
        "\n",
        "  generator_optimizer.apply_gradients(zip(gradients_of_generator, generator.trainable_variables))\n",
        "  discriminator_optimizer.apply_gradients(zip(gradients_of_discriminator, discriminator.trainable_variables))\n",
        "\n",
        "  return gen_loss, disc_loss\n"
      ]
    },
    {
      "cell_type": "code",
      "execution_count": 97,
      "metadata": {
        "id": "xL0_yiKZmsAH"
      },
      "outputs": [],
      "source": [
        "def train(dataset, epochs):\n",
        "  history = []\n",
        "  MAX_PRINT_LABEL = 10\n",
        "  th = BUFFER_SIZE // (BATCH_SIZE * MAX_PRINT_LABEL)\n",
        "\n",
        "  for epoch in range(1, epochs + 1):\n",
        "    print(f'{epoch}/{EPOCHS}: ', end='')\n",
        "\n",
        "    start = time.time()\n",
        "    n = 0\n",
        "\n",
        "    gen_loss_epoch = 0\n",
        "    for image_batch in dataset:\n",
        "      gen_loss, disc_loss = train_step(image_batch)\n",
        "      gen_loss_epoch += K.mean(gen_loss)\n",
        "      if (n % th == 0): print('=', end='')\n",
        "      n += 1\n",
        "\n",
        "    history += [gen_loss_epoch / n]\n",
        "    print(': ' + str(history[-1]))\n",
        "    print('Время эпохи {} составляет {} секунд'.format(epoch, time.time() - start))\n",
        "\n",
        "  return history"
      ]
    },
    {
      "cell_type": "code",
      "execution_count": 98,
      "metadata": {
        "colab": {
          "base_uri": "https://localhost:8080/"
        },
        "id": "zbqhj76UmuzD",
        "outputId": "75d1e0a3-bc55-43f8-afd8-3dc68036d94d"
      },
      "outputs": [
        {
          "name": "stdout",
          "output_type": "stream",
          "text": [
            "1/200: ==========: tf.Tensor(1.2889233, shape=(), dtype=float32)\n",
            "Время эпохи 1 составляет 9.238053798675537 секунд\n",
            "2/200: ==========: tf.Tensor(1.775336, shape=(), dtype=float32)\n",
            "Время эпохи 2 составляет 5.962998151779175 секунд\n",
            "3/200: ==========: tf.Tensor(1.9897105, shape=(), dtype=float32)\n",
            "Время эпохи 3 составляет 5.998993873596191 секунд\n",
            "4/200: ==========: tf.Tensor(1.9249455, shape=(), dtype=float32)\n",
            "Время эпохи 4 составляет 5.9840052127838135 секунд\n",
            "5/200: ==========: tf.Tensor(1.4880087, shape=(), dtype=float32)\n",
            "Время эпохи 5 составляет 6.001999139785767 секунд\n",
            "6/200: ==========: tf.Tensor(1.5781628, shape=(), dtype=float32)\n",
            "Время эпохи 6 составляет 6.004999876022339 секунд\n",
            "7/200: ==========: tf.Tensor(1.2146422, shape=(), dtype=float32)\n",
            "Время эпохи 7 составляет 6.053995370864868 секунд\n",
            "8/200: ==========: tf.Tensor(1.1857957, shape=(), dtype=float32)\n",
            "Время эпохи 8 составляет 6.014004468917847 секунд\n",
            "9/200: ==========: tf.Tensor(1.1038301, shape=(), dtype=float32)\n",
            "Время эпохи 9 составляет 6.139000415802002 секунд\n",
            "10/200: ==========: tf.Tensor(1.02179, shape=(), dtype=float32)\n",
            "Время эпохи 10 составляет 6.015000343322754 секунд\n",
            "11/200: ==========: tf.Tensor(0.99188167, shape=(), dtype=float32)\n",
            "Время эпохи 11 составляет 6.024996757507324 секунд\n",
            "12/200: ==========: tf.Tensor(1.0443274, shape=(), dtype=float32)\n",
            "Время эпохи 12 составляет 6.044001340866089 секунд\n",
            "13/200: ==========: tf.Tensor(0.996411, shape=(), dtype=float32)\n",
            "Время эпохи 13 составляет 6.0580010414123535 секунд\n",
            "14/200: ==========: tf.Tensor(1.0347372, shape=(), dtype=float32)\n",
            "Время эпохи 14 составляет 6.064999103546143 секунд\n",
            "15/200: ==========: tf.Tensor(0.86697024, shape=(), dtype=float32)\n",
            "Время эпохи 15 составляет 6.078002452850342 секунд\n",
            "16/200: ==========: tf.Tensor(0.95514756, shape=(), dtype=float32)\n",
            "Время эпохи 16 составляет 6.053993225097656 секунд\n",
            "17/200: ==========: tf.Tensor(0.8857034, shape=(), dtype=float32)\n",
            "Время эпохи 17 составляет 5.999003887176514 секунд\n",
            "18/200: ==========: tf.Tensor(0.90725094, shape=(), dtype=float32)\n",
            "Время эпохи 18 составляет 6.138002157211304 секунд\n",
            "19/200: ==========: tf.Tensor(0.8598145, shape=(), dtype=float32)\n",
            "Время эпохи 19 составляет 6.02300238609314 секунд\n",
            "20/200: ==========: tf.Tensor(0.8468106, shape=(), dtype=float32)\n",
            "Время эпохи 20 составляет 6.0619957447052 секунд\n",
            "21/200: ==========: tf.Tensor(1.0867932, shape=(), dtype=float32)\n",
            "Время эпохи 21 составляет 6.019000053405762 секунд\n",
            "22/200: ==========: tf.Tensor(0.91553783, shape=(), dtype=float32)\n",
            "Время эпохи 22 составляет 5.955995082855225 секунд\n",
            "23/200: ==========: tf.Tensor(0.81987864, shape=(), dtype=float32)\n",
            "Время эпохи 23 составляет 5.9890077114105225 секунд\n",
            "24/200: ==========: tf.Tensor(1.0864196, shape=(), dtype=float32)\n",
            "Время эпохи 24 составляет 5.983997821807861 секунд\n",
            "25/200: ==========: tf.Tensor(1.0055064, shape=(), dtype=float32)\n",
            "Время эпохи 25 составляет 6.0229997634887695 секунд\n",
            "26/200: ==========: tf.Tensor(1.0557277, shape=(), dtype=float32)\n",
            "Время эпохи 26 составляет 5.992000341415405 секунд\n",
            "27/200: ==========: tf.Tensor(0.9233468, shape=(), dtype=float32)\n",
            "Время эпохи 27 составляет 6.07400369644165 секунд\n",
            "28/200: ==========: tf.Tensor(0.850544, shape=(), dtype=float32)\n",
            "Время эпохи 28 составляет 6.002996444702148 секунд\n",
            "29/200: ==========: tf.Tensor(0.93375766, shape=(), dtype=float32)\n",
            "Время эпохи 29 составляет 6.048999547958374 секунд\n",
            "30/200: ==========: tf.Tensor(0.98973143, shape=(), dtype=float32)\n",
            "Время эпохи 30 составляет 5.998994827270508 секунд\n",
            "31/200: ==========: tf.Tensor(0.89144015, shape=(), dtype=float32)\n",
            "Время эпохи 31 составляет 6.068999767303467 секунд\n",
            "32/200: ==========: tf.Tensor(0.81824017, shape=(), dtype=float32)\n",
            "Время эпохи 32 составляет 6.085001230239868 секунд\n",
            "33/200: ==========: tf.Tensor(0.853864, shape=(), dtype=float32)\n",
            "Время эпохи 33 составляет 6.057003736495972 секунд\n",
            "34/200: ==========: tf.Tensor(0.88010734, shape=(), dtype=float32)\n",
            "Время эпохи 34 составляет 6.016000747680664 секунд\n",
            "35/200: ==========: tf.Tensor(1.0382729, shape=(), dtype=float32)\n",
            "Время эпохи 35 составляет 6.001997232437134 секунд\n",
            "36/200: ==========: tf.Tensor(1.0363297, shape=(), dtype=float32)\n",
            "Время эпохи 36 составляет 6.009998559951782 секунд\n",
            "37/200: ==========: tf.Tensor(0.7721132, shape=(), dtype=float32)\n",
            "Время эпохи 37 составляет 6.174003839492798 секунд\n",
            "38/200: ==========: tf.Tensor(0.91002727, shape=(), dtype=float32)\n",
            "Время эпохи 38 составляет 6.145520925521851 секунд\n",
            "39/200: ==========: tf.Tensor(0.822245, shape=(), dtype=float32)\n",
            "Время эпохи 39 составляет 6.1629931926727295 секунд\n",
            "40/200: ==========: tf.Tensor(0.7859866, shape=(), dtype=float32)\n",
            "Время эпохи 40 составляет 6.08600115776062 секунд\n",
            "41/200: ==========: tf.Tensor(0.8492688, shape=(), dtype=float32)\n",
            "Время эпохи 41 составляет 6.157999515533447 секунд\n",
            "42/200: ==========: tf.Tensor(0.84119457, shape=(), dtype=float32)\n",
            "Время эпохи 42 составляет 6.158004999160767 секунд\n",
            "43/200: ==========: tf.Tensor(0.79614526, shape=(), dtype=float32)\n",
            "Время эпохи 43 составляет 6.15800404548645 секунд\n",
            "44/200: ==========: tf.Tensor(0.78274035, shape=(), dtype=float32)\n",
            "Время эпохи 44 составляет 6.140998363494873 секунд\n",
            "45/200: ==========: tf.Tensor(0.815041, shape=(), dtype=float32)\n",
            "Время эпохи 45 составляет 6.186997890472412 секунд\n",
            "46/200: ==========: tf.Tensor(0.83142555, shape=(), dtype=float32)\n",
            "Время эпохи 46 составляет 6.125994920730591 секунд\n",
            "47/200: ==========: tf.Tensor(0.814169, shape=(), dtype=float32)\n",
            "Время эпохи 47 составляет 6.1810078620910645 секунд\n",
            "48/200: ==========: tf.Tensor(0.9237253, shape=(), dtype=float32)\n",
            "Время эпохи 48 составляет 6.577998638153076 секунд\n",
            "49/200: ==========: tf.Tensor(0.8335035, shape=(), dtype=float32)\n",
            "Время эпохи 49 составляет 6.558999300003052 секунд\n",
            "50/200: ==========: tf.Tensor(0.82640326, shape=(), dtype=float32)\n",
            "Время эпохи 50 составляет 6.126999378204346 секунд\n",
            "51/200: ==========: tf.Tensor(0.8828906, shape=(), dtype=float32)\n",
            "Время эпохи 51 составляет 6.133002281188965 секунд\n",
            "52/200: ==========: tf.Tensor(0.7478105, shape=(), dtype=float32)\n",
            "Время эпохи 52 составляет 6.102992296218872 секунд\n",
            "53/200: ==========: tf.Tensor(0.7959366, shape=(), dtype=float32)\n",
            "Время эпохи 53 составляет 6.136005401611328 секунд\n",
            "54/200: ==========: tf.Tensor(0.80575, shape=(), dtype=float32)\n",
            "Время эпохи 54 составляет 6.166999578475952 секунд\n",
            "55/200: ==========: tf.Tensor(0.8988017, shape=(), dtype=float32)\n",
            "Время эпохи 55 составляет 6.184996604919434 секунд\n",
            "56/200: ==========: tf.Tensor(0.8603467, shape=(), dtype=float32)\n",
            "Время эпохи 56 составляет 6.1450035572052 секунд\n",
            "57/200: ==========: tf.Tensor(0.8847877, shape=(), dtype=float32)\n",
            "Время эпохи 57 составляет 6.111002206802368 секунд\n",
            "58/200: ==========: tf.Tensor(0.89608955, shape=(), dtype=float32)\n",
            "Время эпохи 58 составляет 6.0889976024627686 секунд\n",
            "59/200: ==========: tf.Tensor(0.7750641, shape=(), dtype=float32)\n",
            "Время эпохи 59 составляет 6.143514633178711 секунд\n",
            "60/200: ==========: tf.Tensor(0.7108341, shape=(), dtype=float32)\n",
            "Время эпохи 60 составляет 6.104003190994263 секунд\n",
            "61/200: ==========: tf.Tensor(0.81032765, shape=(), dtype=float32)\n",
            "Время эпохи 61 составляет 6.116997241973877 секунд\n",
            "62/200: ==========: tf.Tensor(0.7169165, shape=(), dtype=float32)\n",
            "Время эпохи 62 составляет 6.097002983093262 секунд\n",
            "63/200: ==========: tf.Tensor(0.8163879, shape=(), dtype=float32)\n",
            "Время эпохи 63 составляет 6.353996515274048 секунд\n",
            "64/200: ==========: tf.Tensor(0.73751247, shape=(), dtype=float32)\n",
            "Время эпохи 64 составляет 6.213004112243652 секунд\n",
            "65/200: ==========: tf.Tensor(0.7557543, shape=(), dtype=float32)\n",
            "Время эпохи 65 составляет 6.191999435424805 секунд\n",
            "66/200: ==========: tf.Tensor(0.8035077, shape=(), dtype=float32)\n",
            "Время эпохи 66 составляет 6.118000507354736 секунд\n",
            "67/200: ==========: tf.Tensor(0.7819499, shape=(), dtype=float32)\n",
            "Время эпохи 67 составляет 6.212003707885742 секунд\n",
            "68/200: ==========: tf.Tensor(0.7807621, shape=(), dtype=float32)\n",
            "Время эпохи 68 составляет 6.178997993469238 секунд\n",
            "69/200: ==========: tf.Tensor(0.749563, shape=(), dtype=float32)\n",
            "Время эпохи 69 составляет 6.167993545532227 секунд\n",
            "70/200: ==========: tf.Tensor(0.7828556, shape=(), dtype=float32)\n",
            "Время эпохи 70 составляет 6.156999111175537 секунд\n",
            "71/200: ==========: tf.Tensor(0.81143814, shape=(), dtype=float32)\n",
            "Время эпохи 71 составляет 6.278001308441162 секунд\n",
            "72/200: ==========: tf.Tensor(0.79981524, shape=(), dtype=float32)\n",
            "Время эпохи 72 составляет 6.470003366470337 секунд\n",
            "73/200: ==========: tf.Tensor(0.8387411, shape=(), dtype=float32)\n",
            "Время эпохи 73 составляет 6.495001554489136 секунд\n",
            "74/200: ==========: tf.Tensor(0.7297827, shape=(), dtype=float32)\n",
            "Время эпохи 74 составляет 6.404998540878296 секунд\n",
            "75/200: ==========: tf.Tensor(0.7981152, shape=(), dtype=float32)\n",
            "Время эпохи 75 составляет 6.5210020542144775 секунд\n",
            "76/200: ==========: tf.Tensor(0.82363856, shape=(), dtype=float32)\n",
            "Время эпохи 76 составляет 6.204998254776001 секунд\n",
            "77/200: ==========: tf.Tensor(0.6936248, shape=(), dtype=float32)\n",
            "Время эпохи 77 составляет 6.287995100021362 секунд\n",
            "78/200: ==========: tf.Tensor(0.7949639, shape=(), dtype=float32)\n",
            "Время эпохи 78 составляет 6.154999494552612 секунд\n",
            "79/200: ==========: tf.Tensor(0.74766797, shape=(), dtype=float32)\n",
            "Время эпохи 79 составляет 6.163001537322998 секунд\n",
            "80/200: ==========: tf.Tensor(0.72535574, shape=(), dtype=float32)\n",
            "Время эпохи 80 составляет 6.140998840332031 секунд\n",
            "81/200: ==========: tf.Tensor(0.77389795, shape=(), dtype=float32)\n",
            "Время эпохи 81 составляет 6.147009611129761 секунд\n",
            "82/200: ==========: tf.Tensor(0.794443, shape=(), dtype=float32)\n",
            "Время эпохи 82 составляет 6.183995723724365 секунд\n",
            "83/200: ==========: tf.Tensor(0.91822016, shape=(), dtype=float32)\n",
            "Время эпохи 83 составляет 6.1549973487854 секунд\n",
            "84/200: ==========: tf.Tensor(0.7622782, shape=(), dtype=float32)\n",
            "Время эпохи 84 составляет 6.223002195358276 секунд\n",
            "85/200: ==========: tf.Tensor(0.74628276, shape=(), dtype=float32)\n",
            "Время эпохи 85 составляет 6.207000017166138 секунд\n",
            "86/200: ==========: tf.Tensor(0.888814, shape=(), dtype=float32)\n",
            "Время эпохи 86 составляет 6.1770031452178955 секунд\n",
            "87/200: ==========: tf.Tensor(0.7409332, shape=(), dtype=float32)\n",
            "Время эпохи 87 составляет 6.146000385284424 секунд\n",
            "88/200: ==========: tf.Tensor(0.7716639, shape=(), dtype=float32)\n",
            "Время эпохи 88 составляет 6.188991546630859 секунд\n",
            "89/200: ==========: tf.Tensor(0.74859995, shape=(), dtype=float32)\n",
            "Время эпохи 89 составляет 6.145000219345093 секунд\n",
            "90/200: ==========: tf.Tensor(0.7488601, shape=(), dtype=float32)\n",
            "Время эпохи 90 составляет 6.083005905151367 секунд\n",
            "91/200: ==========: tf.Tensor(0.74683815, shape=(), dtype=float32)\n",
            "Время эпохи 91 составляет 6.435997247695923 секунд\n",
            "92/200: ==========: tf.Tensor(0.6947264, shape=(), dtype=float32)\n",
            "Время эпохи 92 составляет 6.343003034591675 секунд\n",
            "93/200: ==========: tf.Tensor(0.7809585, shape=(), dtype=float32)\n",
            "Время эпохи 93 составляет 6.245999813079834 секунд\n",
            "94/200: ==========: tf.Tensor(0.72179705, shape=(), dtype=float32)\n",
            "Время эпохи 94 составляет 6.202000379562378 секунд\n",
            "95/200: ==========: tf.Tensor(0.7961582, shape=(), dtype=float32)\n",
            "Время эпохи 95 составляет 6.13099479675293 секунд\n",
            "96/200: ==========: tf.Tensor(0.7774767, shape=(), dtype=float32)\n",
            "Время эпохи 96 составляет 6.104998350143433 секунд\n",
            "97/200: ==========: tf.Tensor(0.7188896, shape=(), dtype=float32)\n",
            "Время эпохи 97 составляет 6.1230058670043945 секунд\n",
            "98/200: ==========: tf.Tensor(0.718073, shape=(), dtype=float32)\n",
            "Время эпохи 98 составляет 6.106996297836304 секунд\n",
            "99/200: ==========: tf.Tensor(0.75495255, shape=(), dtype=float32)\n",
            "Время эпохи 99 составляет 6.126998424530029 секунд\n",
            "100/200: ==========: tf.Tensor(0.7537004, shape=(), dtype=float32)\n",
            "Время эпохи 100 составляет 6.166006088256836 секунд\n",
            "101/200: ==========: tf.Tensor(0.7765898, shape=(), dtype=float32)\n",
            "Время эпохи 101 составляет 6.132998466491699 секунд\n",
            "102/200: ==========: tf.Tensor(0.74732083, shape=(), dtype=float32)\n",
            "Время эпохи 102 составляет 6.154996395111084 секунд\n",
            "103/200: ==========: tf.Tensor(0.84218025, shape=(), dtype=float32)\n",
            "Время эпохи 103 составляет 6.152013301849365 секунд\n",
            "104/200: ==========: tf.Tensor(0.80291677, shape=(), dtype=float32)\n",
            "Время эпохи 104 составляет 6.116990804672241 секунд\n",
            "105/200: ==========: tf.Tensor(0.783365, shape=(), dtype=float32)\n",
            "Время эпохи 105 составляет 6.095994710922241 секунд\n",
            "106/200: ==========: tf.Tensor(0.727285, shape=(), dtype=float32)\n",
            "Время эпохи 106 составляет 6.102999210357666 секунд\n",
            "107/200: ==========: tf.Tensor(1.1430448, shape=(), dtype=float32)\n",
            "Время эпохи 107 составляет 6.09000039100647 секунд\n",
            "108/200: ==========: tf.Tensor(0.69776636, shape=(), dtype=float32)\n",
            "Время эпохи 108 составляет 6.109004735946655 секунд\n",
            "109/200: ==========: tf.Tensor(0.81639344, shape=(), dtype=float32)\n",
            "Время эпохи 109 составляет 6.210000991821289 секунд\n",
            "110/200: ==========: tf.Tensor(0.75764406, shape=(), dtype=float32)\n",
            "Время эпохи 110 составляет 6.424000263214111 секунд\n",
            "111/200: ==========: tf.Tensor(0.7033803, shape=(), dtype=float32)\n",
            "Время эпохи 111 составляет 6.2749950885772705 секунд\n",
            "112/200: ==========: tf.Tensor(0.7719876, shape=(), dtype=float32)\n",
            "Время эпохи 112 составляет 6.254004240036011 секунд\n",
            "113/200: ==========: tf.Tensor(0.8026069, shape=(), dtype=float32)\n",
            "Время эпохи 113 составляет 6.049999713897705 секунд\n",
            "114/200: ==========: tf.Tensor(0.8430205, shape=(), dtype=float32)\n",
            "Время эпохи 114 составляет 6.041000127792358 секунд\n",
            "115/200: ==========: tf.Tensor(0.98951375, shape=(), dtype=float32)\n",
            "Время эпохи 115 составляет 6.074003219604492 секунд\n",
            "116/200: ==========: tf.Tensor(0.87503606, shape=(), dtype=float32)\n",
            "Время эпохи 116 составляет 6.185999393463135 секунд\n",
            "117/200: ==========: tf.Tensor(0.76255, shape=(), dtype=float32)\n",
            "Время эпохи 117 составляет 6.026999473571777 секунд\n",
            "118/200: ==========: tf.Tensor(0.79800373, shape=(), dtype=float32)\n",
            "Время эпохи 118 составляет 6.066998720169067 секунд\n",
            "119/200: ==========: tf.Tensor(0.76099527, shape=(), dtype=float32)\n",
            "Время эпохи 119 составляет 6.020001173019409 секунд\n",
            "120/200: ==========: tf.Tensor(0.7378809, shape=(), dtype=float32)\n",
            "Время эпохи 120 составляет 6.123998165130615 секунд\n",
            "121/200: ==========: tf.Tensor(0.8031854, shape=(), dtype=float32)\n",
            "Время эпохи 121 составляет 5.995000600814819 секунд\n",
            "122/200: ==========: tf.Tensor(0.7682183, shape=(), dtype=float32)\n",
            "Время эпохи 122 составляет 6.002000331878662 секунд\n",
            "123/200: ==========: tf.Tensor(0.79772395, shape=(), dtype=float32)\n",
            "Время эпохи 123 составляет 5.986995458602905 секунд\n",
            "124/200: ==========: tf.Tensor(0.82340556, shape=(), dtype=float32)\n",
            "Время эпохи 124 составляет 6.057003736495972 секунд\n",
            "125/200: ==========: tf.Tensor(0.8637211, shape=(), dtype=float32)\n",
            "Время эпохи 125 составляет 6.01200008392334 секунд\n",
            "126/200: ==========: tf.Tensor(0.85299224, shape=(), dtype=float32)\n",
            "Время эпохи 126 составляет 6.0209949016571045 секунд\n",
            "127/200: ==========: tf.Tensor(0.8019113, shape=(), dtype=float32)\n",
            "Время эпохи 127 составляет 6.029008150100708 секунд\n",
            "128/200: ==========: tf.Tensor(0.8593872, shape=(), dtype=float32)\n",
            "Время эпохи 128 составляет 6.114991903305054 секунд\n",
            "129/200: ==========: tf.Tensor(0.91562784, shape=(), dtype=float32)\n",
            "Время эпохи 129 составляет 6.008004665374756 секунд\n",
            "130/200: ==========: tf.Tensor(0.78892636, shape=(), dtype=float32)\n",
            "Время эпохи 130 составляет 6.04699969291687 секунд\n",
            "131/200: ==========: tf.Tensor(0.9024927, shape=(), dtype=float32)\n",
            "Время эпохи 131 составляет 6.119996547698975 секунд\n",
            "132/200: ==========: tf.Tensor(0.6977523, shape=(), dtype=float32)\n",
            "Время эпохи 132 составляет 6.0770039558410645 секунд\n",
            "133/200: ==========: tf.Tensor(0.8620921, shape=(), dtype=float32)\n",
            "Время эпохи 133 составляет 6.023999929428101 секунд\n",
            "134/200: ==========: tf.Tensor(0.8177926, shape=(), dtype=float32)\n",
            "Время эпохи 134 составляет 6.014999866485596 секунд\n",
            "135/200: ==========: tf.Tensor(0.8447537, shape=(), dtype=float32)\n",
            "Время эпохи 135 составляет 5.994995594024658 секунд\n",
            "136/200: ==========: tf.Tensor(0.92680204, shape=(), dtype=float32)\n",
            "Время эпохи 136 составляет 6.027005195617676 секунд\n",
            "137/200: ==========: tf.Tensor(0.8535308, shape=(), dtype=float32)\n",
            "Время эпохи 137 составляет 6.0519936084747314 секунд\n",
            "138/200: ==========: tf.Tensor(0.82022536, shape=(), dtype=float32)\n",
            "Время эпохи 138 составляет 6.071001291275024 секунд\n",
            "139/200: ==========: tf.Tensor(0.83354217, shape=(), dtype=float32)\n",
            "Время эпохи 139 составляет 6.038007974624634 секунд\n",
            "140/200: ==========: tf.Tensor(1.1140755, shape=(), dtype=float32)\n",
            "Время эпохи 140 составляет 6.030997037887573 секунд\n",
            "141/200: ==========: tf.Tensor(0.82903934, shape=(), dtype=float32)\n",
            "Время эпохи 141 составляет 6.013993978500366 секунд\n",
            "142/200: ==========: tf.Tensor(1.0612664, shape=(), dtype=float32)\n",
            "Время эпохи 142 составляет 6.028005123138428 секунд\n",
            "143/200: ==========: tf.Tensor(0.7920057, shape=(), dtype=float32)\n",
            "Время эпохи 143 составляет 6.01099705696106 секунд\n",
            "144/200: ==========: tf.Tensor(0.73266053, shape=(), dtype=float32)\n",
            "Время эпохи 144 составляет 6.047003507614136 секунд\n",
            "145/200: ==========: tf.Tensor(0.8217528, shape=(), dtype=float32)\n",
            "Время эпохи 145 составляет 6.008000612258911 секунд\n",
            "146/200: ==========: tf.Tensor(0.7587194, shape=(), dtype=float32)\n",
            "Время эпохи 146 составляет 6.0029990673065186 секунд\n",
            "147/200: ==========: tf.Tensor(0.80162746, shape=(), dtype=float32)\n",
            "Время эпохи 147 составляет 6.03399658203125 секунд\n",
            "148/200: ==========: tf.Tensor(0.77936286, shape=(), dtype=float32)\n",
            "Время эпохи 148 составляет 6.02500319480896 секунд\n",
            "149/200: ==========: tf.Tensor(0.7713325, shape=(), dtype=float32)\n",
            "Время эпохи 149 составляет 6.005000591278076 секунд\n",
            "150/200: ==========: tf.Tensor(0.803174, shape=(), dtype=float32)\n",
            "Время эпохи 150 составляет 5.978993892669678 секунд\n",
            "151/200: ==========: tf.Tensor(0.82116276, shape=(), dtype=float32)\n",
            "Время эпохи 151 составляет 6.012001037597656 секунд\n",
            "152/200: ==========: tf.Tensor(0.8583459, shape=(), dtype=float32)\n",
            "Время эпохи 152 составляет 5.974004745483398 секунд\n",
            "153/200: ==========: tf.Tensor(0.8355903, shape=(), dtype=float32)\n",
            "Время эпохи 153 составляет 5.989999771118164 секунд\n",
            "154/200: ==========: tf.Tensor(0.8132688, shape=(), dtype=float32)\n",
            "Время эпохи 154 составляет 5.97700047492981 секунд\n",
            "155/200: ==========: tf.Tensor(0.783106, shape=(), dtype=float32)\n",
            "Время эпохи 155 составляет 6.000994443893433 секунд\n",
            "156/200: ==========: tf.Tensor(0.7068651, shape=(), dtype=float32)\n",
            "Время эпохи 156 составляет 5.981005430221558 секунд\n",
            "157/200: ==========: tf.Tensor(0.76111776, shape=(), dtype=float32)\n",
            "Время эпохи 157 составляет 5.997995615005493 секунд\n",
            "158/200: ==========: tf.Tensor(0.72306263, shape=(), dtype=float32)\n",
            "Время эпохи 158 составляет 6.003004312515259 секунд\n",
            "159/200: ==========: tf.Tensor(0.7621041, shape=(), dtype=float32)\n",
            "Время эпохи 159 составляет 6.034995794296265 секунд\n",
            "160/200: ==========: tf.Tensor(0.7331032, shape=(), dtype=float32)\n",
            "Время эпохи 160 составляет 6.031997203826904 секунд\n",
            "161/200: ==========: tf.Tensor(0.7714525, shape=(), dtype=float32)\n",
            "Время эпохи 161 составляет 6.042000770568848 секунд\n",
            "162/200: ==========: tf.Tensor(0.7615491, shape=(), dtype=float32)\n",
            "Время эпохи 162 составляет 6.030999422073364 секунд\n",
            "163/200: ==========: tf.Tensor(0.8276853, shape=(), dtype=float32)\n",
            "Время эпохи 163 составляет 6.024995565414429 секунд\n",
            "164/200: ==========: tf.Tensor(0.8488344, shape=(), dtype=float32)\n",
            "Время эпохи 164 составляет 6.042004823684692 секунд\n",
            "165/200: ==========: tf.Tensor(0.81951785, shape=(), dtype=float32)\n",
            "Время эпохи 165 составляет 6.046001434326172 секунд\n",
            "166/200: ==========: tf.Tensor(0.7209662, shape=(), dtype=float32)\n",
            "Время эпохи 166 составляет 6.12799334526062 секунд\n",
            "167/200: ==========: tf.Tensor(0.8050709, shape=(), dtype=float32)\n",
            "Время эпохи 167 составляет 6.0000081062316895 секунд\n",
            "168/200: ==========: tf.Tensor(0.69451016, shape=(), dtype=float32)\n",
            "Время эпохи 168 составляет 6.000996828079224 секунд\n",
            "169/200: ==========: tf.Tensor(0.80751526, shape=(), dtype=float32)\n",
            "Время эпохи 169 составляет 6.0229997634887695 секунд\n",
            "170/200: ==========: tf.Tensor(0.80741745, shape=(), dtype=float32)\n",
            "Время эпохи 170 составляет 6.026000499725342 секунд\n",
            "171/200: ==========: tf.Tensor(0.7873212, shape=(), dtype=float32)\n",
            "Время эпохи 171 составляет 6.014994382858276 секунд\n",
            "172/200: ==========: tf.Tensor(0.7467228, shape=(), dtype=float32)\n",
            "Время эпохи 172 составляет 6.015997409820557 секунд\n",
            "173/200: ==========: tf.Tensor(0.8867692, shape=(), dtype=float32)\n",
            "Время эпохи 173 составляет 5.996994733810425 секунд\n",
            "174/200: ==========: tf.Tensor(0.816856, shape=(), dtype=float32)\n",
            "Время эпохи 174 составляет 6.02299952507019 секунд\n",
            "175/200: ==========: tf.Tensor(0.7462393, shape=(), dtype=float32)\n",
            "Время эпохи 175 составляет 6.016007661819458 секунд\n",
            "176/200: ==========: tf.Tensor(0.8327054, shape=(), dtype=float32)\n",
            "Время эпохи 176 составляет 5.969000816345215 секунд\n",
            "177/200: ==========: tf.Tensor(0.82680714, shape=(), dtype=float32)\n",
            "Время эпохи 177 составляет 5.961996078491211 секунд\n",
            "178/200: ==========: tf.Tensor(0.77496755, shape=(), dtype=float32)\n",
            "Время эпохи 178 составляет 5.972000360488892 секунд\n",
            "179/200: ==========: tf.Tensor(0.9157182, shape=(), dtype=float32)\n",
            "Время эпохи 179 составляет 5.957010746002197 секунд\n",
            "180/200: ==========: tf.Tensor(0.6819764, shape=(), dtype=float32)\n",
            "Время эпохи 180 составляет 5.950984001159668 секунд\n",
            "181/200: ==========: tf.Tensor(0.8312817, shape=(), dtype=float32)\n",
            "Время эпохи 181 составляет 5.979005813598633 секунд\n",
            "182/200: ==========: tf.Tensor(0.80356354, shape=(), dtype=float32)\n",
            "Время эпохи 182 составляет 5.9790027141571045 секунд\n",
            "183/200: ==========: tf.Tensor(0.8199486, shape=(), dtype=float32)\n",
            "Время эпохи 183 составляет 5.976999759674072 секунд\n",
            "184/200: ==========: tf.Tensor(0.75675696, shape=(), dtype=float32)\n",
            "Время эпохи 184 составляет 5.918998718261719 секунд\n",
            "185/200: ==========: tf.Tensor(0.78110707, shape=(), dtype=float32)\n",
            "Время эпохи 185 составляет 5.936000108718872 секунд\n",
            "186/200: ==========: tf.Tensor(0.7418166, shape=(), dtype=float32)\n",
            "Время эпохи 186 составляет 5.96599817276001 секунд\n",
            "187/200: ==========: tf.Tensor(0.744644, shape=(), dtype=float32)\n",
            "Время эпохи 187 составляет 5.931004285812378 секунд\n",
            "188/200: ==========: tf.Tensor(0.791736, shape=(), dtype=float32)\n",
            "Время эпохи 188 составляет 5.952996015548706 секунд\n",
            "189/200: ==========: tf.Tensor(0.7300385, shape=(), dtype=float32)\n",
            "Время эпохи 189 составляет 5.976003885269165 секунд\n",
            "190/200: ==========: tf.Tensor(0.83296376, shape=(), dtype=float32)\n",
            "Время эпохи 190 составляет 5.949996471405029 секунд\n",
            "191/200: ==========: tf.Tensor(0.7863061, shape=(), dtype=float32)\n",
            "Время эпохи 191 составляет 6.02300238609314 секунд\n",
            "192/200: ==========: tf.Tensor(0.8023744, shape=(), dtype=float32)\n",
            "Время эпохи 192 составляет 5.975998401641846 секунд\n",
            "193/200: ==========: tf.Tensor(0.7352679, shape=(), dtype=float32)\n",
            "Время эпохи 193 составляет 5.952993392944336 секунд\n",
            "194/200: ==========: tf.Tensor(0.8406835, shape=(), dtype=float32)\n",
            "Время эпохи 194 составляет 5.962017774581909 секунд\n",
            "195/200: ==========: tf.Tensor(0.77515286, shape=(), dtype=float32)\n",
            "Время эпохи 195 составляет 5.973991394042969 секунд\n",
            "196/200: ==========: tf.Tensor(0.77475345, shape=(), dtype=float32)\n",
            "Время эпохи 196 составляет 5.998996019363403 секунд\n",
            "197/200: ==========: tf.Tensor(0.84253776, shape=(), dtype=float32)\n",
            "Время эпохи 197 составляет 5.965000867843628 секунд\n",
            "198/200: ==========: tf.Tensor(0.78798383, shape=(), dtype=float32)\n",
            "Время эпохи 198 составляет 5.9749932289123535 секунд\n",
            "199/200: ==========: tf.Tensor(0.74566925, shape=(), dtype=float32)\n",
            "Время эпохи 199 составляет 6.039008140563965 секунд\n",
            "200/200: ==========: tf.Tensor(0.77763474, shape=(), dtype=float32)\n",
            "Время эпохи 200 составляет 5.97799825668335 секунд\n"
          ]
        }
      ],
      "source": [
        "# запуск процесса обучения\n",
        "EPOCHS = 200\n",
        "history = train(train_dataset, EPOCHS)\n"
      ]
    },
    {
      "cell_type": "code",
      "execution_count": 101,
      "metadata": {
        "colab": {
          "base_uri": "https://localhost:8080/",
          "height": 430
        },
        "id": "9eLl-GVrm0xO",
        "outputId": "543c5b44-7d57-48d5-8086-e08ec0593bef"
      },
      "outputs": [
        {
          "data": {
            "image/png": "[encoded data removed]",
            "text/plain": [
              "<Figure size 640x480 with 1 Axes>"
            ]
          },
          "metadata": {},
          "output_type": "display_data"
        }
      ],
      "source": [
        "plt.plot(history)\n",
        "plt.grid(True)\n",
        "plt.show()"
      ]
    },
    {
      "cell_type": "code",
      "execution_count": 102,
      "metadata": {
        "colab": {
          "base_uri": "https://localhost:8080/",
          "height": 856
        },
        "id": "e-jnq7lQm5QH",
        "outputId": "283e012f-2bfe-4529-836c-cdd593f26447"
      },
      "outputs": [
        {
          "name": "stdout",
          "output_type": "stream",
          "text": [
            "\u001b[1m1/1\u001b[0m \u001b[32m━━━━━━━━━━━━━━━━━━━━\u001b[0m\u001b[37m\u001b[0m \u001b[1m0s\u001b[0m 28ms/step\n",
            "\u001b[1m1/1\u001b[0m \u001b[32m━━━━━━━━━━━━━━━━━━━━\u001b[0m\u001b[37m\u001b[0m \u001b[1m0s\u001b[0m 28ms/step\n",
            "\u001b[1m1/1\u001b[0m \u001b[32m━━━━━━━━━━━━━━━━━━━━\u001b[0m\u001b[37m\u001b[0m \u001b[1m0s\u001b[0m 28ms/step\n",
            "\u001b[1m1/1\u001b[0m \u001b[32m━━━━━━━━━━━━━━━━━━━━\u001b[0m\u001b[37m\u001b[0m \u001b[1m0s\u001b[0m 28ms/step\n",
            "\u001b[1m1/1\u001b[0m \u001b[32m━━━━━━━━━━━━━━━━━━━━\u001b[0m\u001b[37m\u001b[0m \u001b[1m0s\u001b[0m 30ms/step\n",
            "\u001b[1m1/1\u001b[0m \u001b[32m━━━━━━━━━━━━━━━━━━━━\u001b[0m\u001b[37m\u001b[0m \u001b[1m0s\u001b[0m 30ms/step\n",
            "\u001b[1m1/1\u001b[0m \u001b[32m━━━━━━━━━━━━━━━━━━━━\u001b[0m\u001b[37m\u001b[0m \u001b[1m0s\u001b[0m 27ms/step\n",
            "\u001b[1m1/1\u001b[0m \u001b[32m━━━━━━━━━━━━━━━━━━━━\u001b[0m\u001b[37m\u001b[0m \u001b[1m0s\u001b[0m 28ms/step\n",
            "\u001b[1m1/1\u001b[0m \u001b[32m━━━━━━━━━━━━━━━━━━━━\u001b[0m\u001b[37m\u001b[0m \u001b[1m0s\u001b[0m 27ms/step\n",
            "\u001b[1m1/1\u001b[0m \u001b[32m━━━━━━━━━━━━━━━━━━━━\u001b[0m\u001b[37m\u001b[0m \u001b[1m0s\u001b[0m 29ms/step\n",
            "\u001b[1m1/1\u001b[0m \u001b[32m━━━━━━━━━━━━━━━━━━━━\u001b[0m\u001b[37m\u001b[0m \u001b[1m0s\u001b[0m 29ms/step\n",
            "\u001b[1m1/1\u001b[0m \u001b[32m━━━━━━━━━━━━━━━━━━━━\u001b[0m\u001b[37m\u001b[0m \u001b[1m0s\u001b[0m 29ms/step\n",
            "\u001b[1m1/1\u001b[0m \u001b[32m━━━━━━━━━━━━━━━━━━━━\u001b[0m\u001b[37m\u001b[0m \u001b[1m0s\u001b[0m 31ms/step\n",
            "\u001b[1m1/1\u001b[0m \u001b[32m━━━━━━━━━━━━━━━━━━━━\u001b[0m\u001b[37m\u001b[0m \u001b[1m0s\u001b[0m 29ms/step\n",
            "\u001b[1m1/1\u001b[0m \u001b[32m━━━━━━━━━━━━━━━━━━━━\u001b[0m\u001b[37m\u001b[0m \u001b[1m0s\u001b[0m 29ms/step\n",
            "\u001b[1m1/1\u001b[0m \u001b[32m━━━━━━━━━━━━━━━━━━━━\u001b[0m\u001b[37m\u001b[0m \u001b[1m0s\u001b[0m 27ms/step\n",
            "\u001b[1m1/1\u001b[0m \u001b[32m━━━━━━━━━━━━━━━━━━━━\u001b[0m\u001b[37m\u001b[0m \u001b[1m0s\u001b[0m 28ms/step\n",
            "\u001b[1m1/1\u001b[0m \u001b[32m━━━━━━━━━━━━━━━━━━━━\u001b[0m\u001b[37m\u001b[0m \u001b[1m0s\u001b[0m 39ms/step\n",
            "\u001b[1m1/1\u001b[0m \u001b[32m━━━━━━━━━━━━━━━━━━━━\u001b[0m\u001b[37m\u001b[0m \u001b[1m0s\u001b[0m 33ms/step\n",
            "\u001b[1m1/1\u001b[0m \u001b[32m━━━━━━━━━━━━━━━━━━━━\u001b[0m\u001b[37m\u001b[0m \u001b[1m0s\u001b[0m 29ms/step\n",
            "\u001b[1m1/1\u001b[0m \u001b[32m━━━━━━━━━━━━━━━━━━━━\u001b[0m\u001b[37m\u001b[0m \u001b[1m0s\u001b[0m 28ms/step\n",
            "\u001b[1m1/1\u001b[0m \u001b[32m━━━━━━━━━━━━━━━━━━━━\u001b[0m\u001b[37m\u001b[0m \u001b[1m0s\u001b[0m 30ms/step\n",
            "\u001b[1m1/1\u001b[0m \u001b[32m━━━━━━━━━━━━━━━━━━━━\u001b[0m\u001b[37m\u001b[0m \u001b[1m0s\u001b[0m 30ms/step\n",
            "\u001b[1m1/1\u001b[0m \u001b[32m━━━━━━━━━━━━━━━━━━━━\u001b[0m\u001b[37m\u001b[0m \u001b[1m0s\u001b[0m 31ms/step\n",
            "\u001b[1m1/1\u001b[0m \u001b[32m━━━━━━━━━━━━━━━━━━━━\u001b[0m\u001b[37m\u001b[0m \u001b[1m0s\u001b[0m 30ms/step\n"
          ]
        },
        {
          "data": {
            "image/png": "[encoded data removed]",
            "text/plain": [
              "<Figure size 500x500 with 25 Axes>"
            ]
          },
          "metadata": {},
          "output_type": "display_data"
        }
      ],
      "source": [
        "# отображение результатов генерации\n",
        "n = 2\n",
        "total = 2 * n + 1\n",
        "\n",
        "plt.figure(figsize=(total, total))\n",
        "\n",
        "num = 1\n",
        "for i in range(-n, n + 1):\n",
        "  for j in range(-n, n + 1):\n",
        "    ax = plt.subplot(total, total, num)\n",
        "    num += 1\n",
        "    img = generator.predict(np.expand_dims([0.5 * i / n, 0.5 * j / n], axis=0))\n",
        "    plt.imshow(img[0, :, :, 0], cmap='gray')\n",
        "    ax.get_xaxis().set_visible(False)\n",
        "    ax.get_yaxis().set_visible(False)\n",
        "\n",
        "plt.show()"
      ]
    }
  ],
  "metadata": {
    "colab": {
      "provenance": []
    },
    "kernelspec": {
      "display_name": ".venv",
      "language": "python",
      "name": "python3"
    },
    "language_info": {
      "codemirror_mode": {
        "name": "ipython",
        "version": 3
      },
      "file_extension": ".py",
      "mimetype": "text/x-python",
      "name": "python",
      "nbconvert_exporter": "python",
      "pygments_lexer": "ipython3",
      "version": "3.11.0"
    }
  },
  "nbformat": 4,
  "nbformat_minor": 0
}
